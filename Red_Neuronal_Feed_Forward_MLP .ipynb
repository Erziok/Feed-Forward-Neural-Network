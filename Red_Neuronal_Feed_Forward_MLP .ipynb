{
  "nbformat": 4,
  "nbformat_minor": 0,
  "metadata": {
    "colab": {
      "name": "Red_Neuronal_Feed_Forward_MLP.ipynb",
      "provenance": [],
      "collapsed_sections": []
    },
    "kernelspec": {
      "name": "python3",
      "display_name": "Python 3"
    },
    "language_info": {
      "name": "python"
    },
    "widgets": {
      "application/vnd.jupyter.widget-state+json": {
        "8c894e6cea7a49448377058bf41f3f1c": {
          "model_module": "@jupyter-widgets/controls",
          "model_name": "HBoxModel",
          "model_module_version": "1.5.0",
          "state": {
            "_dom_classes": [],
            "_model_module": "@jupyter-widgets/controls",
            "_model_module_version": "1.5.0",
            "_model_name": "HBoxModel",
            "_view_count": null,
            "_view_module": "@jupyter-widgets/controls",
            "_view_module_version": "1.5.0",
            "_view_name": "HBoxView",
            "box_style": "",
            "children": [
              "IPY_MODEL_2c92e8ced4724ba3b1ecead324868e7a",
              "IPY_MODEL_fbd2bb18c0d6401caf22888934a5b80a",
              "IPY_MODEL_e99f2eee6bf74e8aa00ba9ae173067d7"
            ],
            "layout": "IPY_MODEL_09f6ed8b2683496cbfbb73143b7bb3e8"
          }
        },
        "2c92e8ced4724ba3b1ecead324868e7a": {
          "model_module": "@jupyter-widgets/controls",
          "model_name": "HTMLModel",
          "model_module_version": "1.5.0",
          "state": {
            "_dom_classes": [],
            "_model_module": "@jupyter-widgets/controls",
            "_model_module_version": "1.5.0",
            "_model_name": "HTMLModel",
            "_view_count": null,
            "_view_module": "@jupyter-widgets/controls",
            "_view_module_version": "1.5.0",
            "_view_name": "HTMLView",
            "description": "",
            "description_tooltip": null,
            "layout": "IPY_MODEL_9a144ef006be4a60bba1ff4911c0422e",
            "placeholder": "​",
            "style": "IPY_MODEL_9659384bc62c42778e145b6f28d7f12f",
            "value": "Dl Completed...: 100%"
          }
        },
        "fbd2bb18c0d6401caf22888934a5b80a": {
          "model_module": "@jupyter-widgets/controls",
          "model_name": "FloatProgressModel",
          "model_module_version": "1.5.0",
          "state": {
            "_dom_classes": [],
            "_model_module": "@jupyter-widgets/controls",
            "_model_module_version": "1.5.0",
            "_model_name": "FloatProgressModel",
            "_view_count": null,
            "_view_module": "@jupyter-widgets/controls",
            "_view_module_version": "1.5.0",
            "_view_name": "ProgressView",
            "bar_style": "success",
            "description": "",
            "description_tooltip": null,
            "layout": "IPY_MODEL_473a05150be249708983232c398ff201",
            "max": 4,
            "min": 0,
            "orientation": "horizontal",
            "style": "IPY_MODEL_4a9a361f90634107ae3cc2189c213212",
            "value": 4
          }
        },
        "e99f2eee6bf74e8aa00ba9ae173067d7": {
          "model_module": "@jupyter-widgets/controls",
          "model_name": "HTMLModel",
          "model_module_version": "1.5.0",
          "state": {
            "_dom_classes": [],
            "_model_module": "@jupyter-widgets/controls",
            "_model_module_version": "1.5.0",
            "_model_name": "HTMLModel",
            "_view_count": null,
            "_view_module": "@jupyter-widgets/controls",
            "_view_module_version": "1.5.0",
            "_view_name": "HTMLView",
            "description": "",
            "description_tooltip": null,
            "layout": "IPY_MODEL_c335dbea45a149909254b212f57bd78e",
            "placeholder": "​",
            "style": "IPY_MODEL_6e8502dfe7694bf9877e9a9db7089f85",
            "value": " 4/4 [00:01&lt;00:00,  1.78 file/s]"
          }
        },
        "09f6ed8b2683496cbfbb73143b7bb3e8": {
          "model_module": "@jupyter-widgets/base",
          "model_name": "LayoutModel",
          "model_module_version": "1.2.0",
          "state": {
            "_model_module": "@jupyter-widgets/base",
            "_model_module_version": "1.2.0",
            "_model_name": "LayoutModel",
            "_view_count": null,
            "_view_module": "@jupyter-widgets/base",
            "_view_module_version": "1.2.0",
            "_view_name": "LayoutView",
            "align_content": null,
            "align_items": null,
            "align_self": null,
            "border": null,
            "bottom": null,
            "display": null,
            "flex": null,
            "flex_flow": null,
            "grid_area": null,
            "grid_auto_columns": null,
            "grid_auto_flow": null,
            "grid_auto_rows": null,
            "grid_column": null,
            "grid_gap": null,
            "grid_row": null,
            "grid_template_areas": null,
            "grid_template_columns": null,
            "grid_template_rows": null,
            "height": null,
            "justify_content": null,
            "justify_items": null,
            "left": null,
            "margin": null,
            "max_height": null,
            "max_width": null,
            "min_height": null,
            "min_width": null,
            "object_fit": null,
            "object_position": null,
            "order": null,
            "overflow": null,
            "overflow_x": null,
            "overflow_y": null,
            "padding": null,
            "right": null,
            "top": null,
            "visibility": null,
            "width": null
          }
        },
        "9a144ef006be4a60bba1ff4911c0422e": {
          "model_module": "@jupyter-widgets/base",
          "model_name": "LayoutModel",
          "model_module_version": "1.2.0",
          "state": {
            "_model_module": "@jupyter-widgets/base",
            "_model_module_version": "1.2.0",
            "_model_name": "LayoutModel",
            "_view_count": null,
            "_view_module": "@jupyter-widgets/base",
            "_view_module_version": "1.2.0",
            "_view_name": "LayoutView",
            "align_content": null,
            "align_items": null,
            "align_self": null,
            "border": null,
            "bottom": null,
            "display": null,
            "flex": null,
            "flex_flow": null,
            "grid_area": null,
            "grid_auto_columns": null,
            "grid_auto_flow": null,
            "grid_auto_rows": null,
            "grid_column": null,
            "grid_gap": null,
            "grid_row": null,
            "grid_template_areas": null,
            "grid_template_columns": null,
            "grid_template_rows": null,
            "height": null,
            "justify_content": null,
            "justify_items": null,
            "left": null,
            "margin": null,
            "max_height": null,
            "max_width": null,
            "min_height": null,
            "min_width": null,
            "object_fit": null,
            "object_position": null,
            "order": null,
            "overflow": null,
            "overflow_x": null,
            "overflow_y": null,
            "padding": null,
            "right": null,
            "top": null,
            "visibility": null,
            "width": null
          }
        },
        "9659384bc62c42778e145b6f28d7f12f": {
          "model_module": "@jupyter-widgets/controls",
          "model_name": "DescriptionStyleModel",
          "model_module_version": "1.5.0",
          "state": {
            "_model_module": "@jupyter-widgets/controls",
            "_model_module_version": "1.5.0",
            "_model_name": "DescriptionStyleModel",
            "_view_count": null,
            "_view_module": "@jupyter-widgets/base",
            "_view_module_version": "1.2.0",
            "_view_name": "StyleView",
            "description_width": ""
          }
        },
        "473a05150be249708983232c398ff201": {
          "model_module": "@jupyter-widgets/base",
          "model_name": "LayoutModel",
          "model_module_version": "1.2.0",
          "state": {
            "_model_module": "@jupyter-widgets/base",
            "_model_module_version": "1.2.0",
            "_model_name": "LayoutModel",
            "_view_count": null,
            "_view_module": "@jupyter-widgets/base",
            "_view_module_version": "1.2.0",
            "_view_name": "LayoutView",
            "align_content": null,
            "align_items": null,
            "align_self": null,
            "border": null,
            "bottom": null,
            "display": null,
            "flex": null,
            "flex_flow": null,
            "grid_area": null,
            "grid_auto_columns": null,
            "grid_auto_flow": null,
            "grid_auto_rows": null,
            "grid_column": null,
            "grid_gap": null,
            "grid_row": null,
            "grid_template_areas": null,
            "grid_template_columns": null,
            "grid_template_rows": null,
            "height": null,
            "justify_content": null,
            "justify_items": null,
            "left": null,
            "margin": null,
            "max_height": null,
            "max_width": null,
            "min_height": null,
            "min_width": null,
            "object_fit": null,
            "object_position": null,
            "order": null,
            "overflow": null,
            "overflow_x": null,
            "overflow_y": null,
            "padding": null,
            "right": null,
            "top": null,
            "visibility": null,
            "width": null
          }
        },
        "4a9a361f90634107ae3cc2189c213212": {
          "model_module": "@jupyter-widgets/controls",
          "model_name": "ProgressStyleModel",
          "model_module_version": "1.5.0",
          "state": {
            "_model_module": "@jupyter-widgets/controls",
            "_model_module_version": "1.5.0",
            "_model_name": "ProgressStyleModel",
            "_view_count": null,
            "_view_module": "@jupyter-widgets/base",
            "_view_module_version": "1.2.0",
            "_view_name": "StyleView",
            "bar_color": null,
            "description_width": ""
          }
        },
        "c335dbea45a149909254b212f57bd78e": {
          "model_module": "@jupyter-widgets/base",
          "model_name": "LayoutModel",
          "model_module_version": "1.2.0",
          "state": {
            "_model_module": "@jupyter-widgets/base",
            "_model_module_version": "1.2.0",
            "_model_name": "LayoutModel",
            "_view_count": null,
            "_view_module": "@jupyter-widgets/base",
            "_view_module_version": "1.2.0",
            "_view_name": "LayoutView",
            "align_content": null,
            "align_items": null,
            "align_self": null,
            "border": null,
            "bottom": null,
            "display": null,
            "flex": null,
            "flex_flow": null,
            "grid_area": null,
            "grid_auto_columns": null,
            "grid_auto_flow": null,
            "grid_auto_rows": null,
            "grid_column": null,
            "grid_gap": null,
            "grid_row": null,
            "grid_template_areas": null,
            "grid_template_columns": null,
            "grid_template_rows": null,
            "height": null,
            "justify_content": null,
            "justify_items": null,
            "left": null,
            "margin": null,
            "max_height": null,
            "max_width": null,
            "min_height": null,
            "min_width": null,
            "object_fit": null,
            "object_position": null,
            "order": null,
            "overflow": null,
            "overflow_x": null,
            "overflow_y": null,
            "padding": null,
            "right": null,
            "top": null,
            "visibility": null,
            "width": null
          }
        },
        "6e8502dfe7694bf9877e9a9db7089f85": {
          "model_module": "@jupyter-widgets/controls",
          "model_name": "DescriptionStyleModel",
          "model_module_version": "1.5.0",
          "state": {
            "_model_module": "@jupyter-widgets/controls",
            "_model_module_version": "1.5.0",
            "_model_name": "DescriptionStyleModel",
            "_view_count": null,
            "_view_module": "@jupyter-widgets/base",
            "_view_module_version": "1.2.0",
            "_view_name": "StyleView",
            "description_width": ""
          }
        },
        "f5e19ee1562c4a7c95c996e06ea6fc24": {
          "model_module": "@jupyter-widgets/controls",
          "model_name": "HBoxModel",
          "model_module_version": "1.5.0",
          "state": {
            "_dom_classes": [],
            "_model_module": "@jupyter-widgets/controls",
            "_model_module_version": "1.5.0",
            "_model_name": "HBoxModel",
            "_view_count": null,
            "_view_module": "@jupyter-widgets/controls",
            "_view_module_version": "1.5.0",
            "_view_name": "HBoxView",
            "box_style": "",
            "children": [
              "IPY_MODEL_a4740f8a8bbd4bd1b9ecb4000ea13884",
              "IPY_MODEL_c78a7f82565a4374b435715cbfcb2f31",
              "IPY_MODEL_2ce53ab7dc064c17b56347ddab79a89d"
            ],
            "layout": "IPY_MODEL_a0e560380bd1460292447ecc0e5e7f19"
          }
        },
        "a4740f8a8bbd4bd1b9ecb4000ea13884": {
          "model_module": "@jupyter-widgets/controls",
          "model_name": "HTMLModel",
          "model_module_version": "1.5.0",
          "state": {
            "_dom_classes": [],
            "_model_module": "@jupyter-widgets/controls",
            "_model_module_version": "1.5.0",
            "_model_name": "HTMLModel",
            "_view_count": null,
            "_view_module": "@jupyter-widgets/controls",
            "_view_module_version": "1.5.0",
            "_view_name": "HTMLView",
            "description": "",
            "description_tooltip": null,
            "layout": "IPY_MODEL_0a538c23189e4d22bda5c3065d70dfa4",
            "placeholder": "​",
            "style": "IPY_MODEL_21e435bd48ac4faaaf76898ee3eaee8b",
            "value": "Dl Completed...: 100%"
          }
        },
        "c78a7f82565a4374b435715cbfcb2f31": {
          "model_module": "@jupyter-widgets/controls",
          "model_name": "FloatProgressModel",
          "model_module_version": "1.5.0",
          "state": {
            "_dom_classes": [],
            "_model_module": "@jupyter-widgets/controls",
            "_model_module_version": "1.5.0",
            "_model_name": "FloatProgressModel",
            "_view_count": null,
            "_view_module": "@jupyter-widgets/controls",
            "_view_module_version": "1.5.0",
            "_view_name": "ProgressView",
            "bar_style": "success",
            "description": "",
            "description_tooltip": null,
            "layout": "IPY_MODEL_8f5713bb618b4eeebe6014fa4117bee7",
            "max": 4,
            "min": 0,
            "orientation": "horizontal",
            "style": "IPY_MODEL_73adae081f7d413cab1bd383c0fbf591",
            "value": 4
          }
        },
        "2ce53ab7dc064c17b56347ddab79a89d": {
          "model_module": "@jupyter-widgets/controls",
          "model_name": "HTMLModel",
          "model_module_version": "1.5.0",
          "state": {
            "_dom_classes": [],
            "_model_module": "@jupyter-widgets/controls",
            "_model_module_version": "1.5.0",
            "_model_name": "HTMLModel",
            "_view_count": null,
            "_view_module": "@jupyter-widgets/controls",
            "_view_module_version": "1.5.0",
            "_view_name": "HTMLView",
            "description": "",
            "description_tooltip": null,
            "layout": "IPY_MODEL_292e1945d3bb42f5b7d8bd39d03a00e5",
            "placeholder": "​",
            "style": "IPY_MODEL_db408c6b65904cc89c032d44f8973e3d",
            "value": " 4/4 [00:00&lt;00:00,  9.42 file/s]"
          }
        },
        "a0e560380bd1460292447ecc0e5e7f19": {
          "model_module": "@jupyter-widgets/base",
          "model_name": "LayoutModel",
          "model_module_version": "1.2.0",
          "state": {
            "_model_module": "@jupyter-widgets/base",
            "_model_module_version": "1.2.0",
            "_model_name": "LayoutModel",
            "_view_count": null,
            "_view_module": "@jupyter-widgets/base",
            "_view_module_version": "1.2.0",
            "_view_name": "LayoutView",
            "align_content": null,
            "align_items": null,
            "align_self": null,
            "border": null,
            "bottom": null,
            "display": null,
            "flex": null,
            "flex_flow": null,
            "grid_area": null,
            "grid_auto_columns": null,
            "grid_auto_flow": null,
            "grid_auto_rows": null,
            "grid_column": null,
            "grid_gap": null,
            "grid_row": null,
            "grid_template_areas": null,
            "grid_template_columns": null,
            "grid_template_rows": null,
            "height": null,
            "justify_content": null,
            "justify_items": null,
            "left": null,
            "margin": null,
            "max_height": null,
            "max_width": null,
            "min_height": null,
            "min_width": null,
            "object_fit": null,
            "object_position": null,
            "order": null,
            "overflow": null,
            "overflow_x": null,
            "overflow_y": null,
            "padding": null,
            "right": null,
            "top": null,
            "visibility": null,
            "width": null
          }
        },
        "0a538c23189e4d22bda5c3065d70dfa4": {
          "model_module": "@jupyter-widgets/base",
          "model_name": "LayoutModel",
          "model_module_version": "1.2.0",
          "state": {
            "_model_module": "@jupyter-widgets/base",
            "_model_module_version": "1.2.0",
            "_model_name": "LayoutModel",
            "_view_count": null,
            "_view_module": "@jupyter-widgets/base",
            "_view_module_version": "1.2.0",
            "_view_name": "LayoutView",
            "align_content": null,
            "align_items": null,
            "align_self": null,
            "border": null,
            "bottom": null,
            "display": null,
            "flex": null,
            "flex_flow": null,
            "grid_area": null,
            "grid_auto_columns": null,
            "grid_auto_flow": null,
            "grid_auto_rows": null,
            "grid_column": null,
            "grid_gap": null,
            "grid_row": null,
            "grid_template_areas": null,
            "grid_template_columns": null,
            "grid_template_rows": null,
            "height": null,
            "justify_content": null,
            "justify_items": null,
            "left": null,
            "margin": null,
            "max_height": null,
            "max_width": null,
            "min_height": null,
            "min_width": null,
            "object_fit": null,
            "object_position": null,
            "order": null,
            "overflow": null,
            "overflow_x": null,
            "overflow_y": null,
            "padding": null,
            "right": null,
            "top": null,
            "visibility": null,
            "width": null
          }
        },
        "21e435bd48ac4faaaf76898ee3eaee8b": {
          "model_module": "@jupyter-widgets/controls",
          "model_name": "DescriptionStyleModel",
          "model_module_version": "1.5.0",
          "state": {
            "_model_module": "@jupyter-widgets/controls",
            "_model_module_version": "1.5.0",
            "_model_name": "DescriptionStyleModel",
            "_view_count": null,
            "_view_module": "@jupyter-widgets/base",
            "_view_module_version": "1.2.0",
            "_view_name": "StyleView",
            "description_width": ""
          }
        },
        "8f5713bb618b4eeebe6014fa4117bee7": {
          "model_module": "@jupyter-widgets/base",
          "model_name": "LayoutModel",
          "model_module_version": "1.2.0",
          "state": {
            "_model_module": "@jupyter-widgets/base",
            "_model_module_version": "1.2.0",
            "_model_name": "LayoutModel",
            "_view_count": null,
            "_view_module": "@jupyter-widgets/base",
            "_view_module_version": "1.2.0",
            "_view_name": "LayoutView",
            "align_content": null,
            "align_items": null,
            "align_self": null,
            "border": null,
            "bottom": null,
            "display": null,
            "flex": null,
            "flex_flow": null,
            "grid_area": null,
            "grid_auto_columns": null,
            "grid_auto_flow": null,
            "grid_auto_rows": null,
            "grid_column": null,
            "grid_gap": null,
            "grid_row": null,
            "grid_template_areas": null,
            "grid_template_columns": null,
            "grid_template_rows": null,
            "height": null,
            "justify_content": null,
            "justify_items": null,
            "left": null,
            "margin": null,
            "max_height": null,
            "max_width": null,
            "min_height": null,
            "min_width": null,
            "object_fit": null,
            "object_position": null,
            "order": null,
            "overflow": null,
            "overflow_x": null,
            "overflow_y": null,
            "padding": null,
            "right": null,
            "top": null,
            "visibility": null,
            "width": null
          }
        },
        "73adae081f7d413cab1bd383c0fbf591": {
          "model_module": "@jupyter-widgets/controls",
          "model_name": "ProgressStyleModel",
          "model_module_version": "1.5.0",
          "state": {
            "_model_module": "@jupyter-widgets/controls",
            "_model_module_version": "1.5.0",
            "_model_name": "ProgressStyleModel",
            "_view_count": null,
            "_view_module": "@jupyter-widgets/base",
            "_view_module_version": "1.2.0",
            "_view_name": "StyleView",
            "bar_color": null,
            "description_width": ""
          }
        },
        "292e1945d3bb42f5b7d8bd39d03a00e5": {
          "model_module": "@jupyter-widgets/base",
          "model_name": "LayoutModel",
          "model_module_version": "1.2.0",
          "state": {
            "_model_module": "@jupyter-widgets/base",
            "_model_module_version": "1.2.0",
            "_model_name": "LayoutModel",
            "_view_count": null,
            "_view_module": "@jupyter-widgets/base",
            "_view_module_version": "1.2.0",
            "_view_name": "LayoutView",
            "align_content": null,
            "align_items": null,
            "align_self": null,
            "border": null,
            "bottom": null,
            "display": null,
            "flex": null,
            "flex_flow": null,
            "grid_area": null,
            "grid_auto_columns": null,
            "grid_auto_flow": null,
            "grid_auto_rows": null,
            "grid_column": null,
            "grid_gap": null,
            "grid_row": null,
            "grid_template_areas": null,
            "grid_template_columns": null,
            "grid_template_rows": null,
            "height": null,
            "justify_content": null,
            "justify_items": null,
            "left": null,
            "margin": null,
            "max_height": null,
            "max_width": null,
            "min_height": null,
            "min_width": null,
            "object_fit": null,
            "object_position": null,
            "order": null,
            "overflow": null,
            "overflow_x": null,
            "overflow_y": null,
            "padding": null,
            "right": null,
            "top": null,
            "visibility": null,
            "width": null
          }
        },
        "db408c6b65904cc89c032d44f8973e3d": {
          "model_module": "@jupyter-widgets/controls",
          "model_name": "DescriptionStyleModel",
          "model_module_version": "1.5.0",
          "state": {
            "_model_module": "@jupyter-widgets/controls",
            "_model_module_version": "1.5.0",
            "_model_name": "DescriptionStyleModel",
            "_view_count": null,
            "_view_module": "@jupyter-widgets/base",
            "_view_module_version": "1.2.0",
            "_view_name": "StyleView",
            "description_width": ""
          }
        }
      }
    }
  },
  "cells": [
    {
      "cell_type": "markdown",
      "metadata": {
        "id": "pqMJIyM-VpxX"
      },
      "source": [
        "# Parte 1. \n",
        "Diseñando e implementando estructura básica de una red feedforward (MLP)\n",
        "\n",
        "Para esta actividad, se realizará el diseño e implementación de la estructura de una red feedforward (MLP), la cual utilizará el dataset de MNIST (Modified National Institute of Standars and Technology), el cual contiene 60.000 imagenes de entrenamiento y 10.000 de testing, cada unas con una escala de 28x28 pixeles. Para el entrenamiento de esta red se utilizarán 3 funciones de activación (ReLu, Sigmoid y Tanh), las cuales serán puestas a prueba y serán comparadas en cuanto a precisión y tiempo de entrenamiento."
      ]
    },
    {
      "cell_type": "markdown",
      "source": [
        "##1. Implementación y diseño de la red neuronal"
      ],
      "metadata": {
        "id": "sqDwh2CHYFcU"
      }
    },
    {
      "cell_type": "code",
      "metadata": {
        "id": "I_FmK3KjXQcH",
        "colab": {
          "base_uri": "https://localhost:8080/",
          "height": 187,
          "referenced_widgets": [
            "f5e19ee1562c4a7c95c996e06ea6fc24",
            "a4740f8a8bbd4bd1b9ecb4000ea13884",
            "c78a7f82565a4374b435715cbfcb2f31",
            "2ce53ab7dc064c17b56347ddab79a89d",
            "a0e560380bd1460292447ecc0e5e7f19",
            "0a538c23189e4d22bda5c3065d70dfa4",
            "21e435bd48ac4faaaf76898ee3eaee8b",
            "8f5713bb618b4eeebe6014fa4117bee7",
            "73adae081f7d413cab1bd383c0fbf591",
            "292e1945d3bb42f5b7d8bd39d03a00e5",
            "db408c6b65904cc89c032d44f8973e3d"
          ]
        },
        "outputId": "74188592-7398-4089-d484-71059df5a95f"
      },
      "source": [
        "import tensorflow as tf\n",
        "import tensorflow_datasets as tfds\n",
        "from tensorflow.keras.datasets import mnist\n",
        "\n",
        "batch_size = 128\n",
        "layer1_dense_size = 128\n",
        "\n",
        "#Carga del dataset\n",
        "(ds_train, ds_test), ds_info = tfds.load(\n",
        "    'mnist',\n",
        "    split = ['train', 'test'],\n",
        "    shuffle_files = True,\n",
        "    as_supervised = True,\n",
        "    with_info = True,\n",
        ")\n",
        "\n",
        "#########################################"
      ],
      "execution_count": 1,
      "outputs": [
        {
          "output_type": "stream",
          "name": "stdout",
          "text": [
            "\u001b[1mDownloading and preparing dataset mnist/3.0.1 (download: 11.06 MiB, generated: 21.00 MiB, total: 32.06 MiB) to /root/tensorflow_datasets/mnist/3.0.1...\u001b[0m\n"
          ]
        },
        {
          "output_type": "stream",
          "name": "stderr",
          "text": [
            "WARNING:absl:Dataset mnist is hosted on GCS. It will automatically be downloaded to your\n",
            "local data directory. If you'd instead prefer to read directly from our public\n",
            "GCS bucket (recommended if you're running on GCP), you can instead pass\n",
            "`try_gcs=True` to `tfds.load` or set `data_dir=gs://tfds-data/datasets`.\n",
            "\n"
          ]
        },
        {
          "output_type": "display_data",
          "data": {
            "text/plain": [
              "Dl Completed...:   0%|          | 0/4 [00:00<?, ? file/s]"
            ],
            "application/vnd.jupyter.widget-view+json": {
              "version_major": 2,
              "version_minor": 0,
              "model_id": "f5e19ee1562c4a7c95c996e06ea6fc24"
            }
          },
          "metadata": {}
        },
        {
          "output_type": "stream",
          "name": "stdout",
          "text": [
            "\n",
            "\u001b[1mDataset mnist downloaded and prepared to /root/tensorflow_datasets/mnist/3.0.1. Subsequent calls will reuse this data.\u001b[0m\n"
          ]
        }
      ]
    },
    {
      "cell_type": "code",
      "metadata": {
        "id": "G7YdMiADXbM-"
      },
      "source": [
        "# Probaremos las distintas funciones de activación de la red (ReLu, Sigmoid y Tanh)\n",
        "# Modificaremos la cantidad de capas ocultas entre 1 y 3, utilizando un tamaño fijo de 128 neuronas en cada una de ellas\n",
        "\n",
        "def normalize_img(image, label):\n",
        "  return tf.cast(image, tf.float32) / 255., label\n"
      ],
      "execution_count": 2,
      "outputs": []
    },
    {
      "cell_type": "code",
      "source": [
        "ds_train = ds_train.map(\n",
        "    normalize_img, num_parallel_calls = tf.data.AUTOTUNE\n",
        ")\n",
        "ds_train = ds_train.cache()\n",
        "ds_train = ds_train.shuffle(ds_info.splits['train'].num_examples)\n",
        "ds_train = ds_train.batch(batch_size)\n",
        "ds_train = ds_train.prefetch(tf.data.AUTOTUNE)\n",
        "\n",
        "\n",
        "ds_test = ds_test.map(\n",
        "    normalize_img, num_parallel_calls = tf.data.AUTOTUNE\n",
        ")\n",
        "ds_test = ds_test.batch(batch_size)\n",
        "ds_test = ds_test.cache()\n",
        "ds_test = ds_test.prefetch(tf.data.AUTOTUNE)"
      ],
      "metadata": {
        "id": "RL-F8yTDwRU6"
      },
      "execution_count": 3,
      "outputs": []
    },
    {
      "cell_type": "code",
      "source": [
        "# Visualizar las imagenes del dataset\n",
        "\n",
        "import matplotlib.pyplot as plt\n",
        "import numpy as np\n",
        "\n",
        "plt.figure(figsize=(6,6))\n",
        "for images, labels in ds_train.take(1):\n",
        "  for i in range(9):\n",
        "    images_array = np.array(images[i], dtype='float')\n",
        "    pixels = images_array.reshape((28, 28))\n",
        "    ax = plt.subplot(3, 3, i + 1)\n",
        "    plt.imshow(pixels, cmap='gray')\n",
        "    plt.title(int(labels[i]))\n",
        "    plt.axis(\"off\")"
      ],
      "metadata": {
        "colab": {
          "base_uri": "https://localhost:8080/",
          "height": 372
        },
        "id": "W0OKT-KQ09Wd",
        "outputId": "92c9f8f8-3e34-41e2-99f0-d4fab5d35e08"
      },
      "execution_count": 4,
      "outputs": [
        {
          "output_type": "display_data",
          "data": {
            "text/plain": [
              "<Figure size 432x432 with 9 Axes>"
            ],
            "image/png": "[encoded data removed]"
          },
          "metadata": {
            "needs_background": "light"
          }
        }
      ]
    },
    {
      "cell_type": "markdown",
      "source": [
        "Se combinarán las distintas funciones de activación y cantidad de capas ocultas de la red\n",
        "Se entrenará por 20 épocas y se evaluará el rendimiento de la red"
      ],
      "metadata": {
        "id": "QzPsluq22S6p"
      }
    },
    {
      "cell_type": "code",
      "metadata": {
        "id": "hoSToECmXxQw",
        "colab": {
          "base_uri": "https://localhost:8080/"
        },
        "outputId": "bb62999d-17dc-43e2-bf21-79e285799837"
      },
      "source": [
        "# MODELO CON FUNCIÓN DE ACTIVACIÓN ReLu\n",
        "\n",
        "model_relu = tf.keras.models.Sequential([\n",
        "  tf.keras.layers.Flatten(input_shape=(28, 28)),\n",
        "  tf.keras.layers.Dense(128, activation='relu'), # <---- capas ocultas\n",
        "  #tf.keras.layers.Dense(128, activation='relu'),\n",
        "  #tf.keras.layers.Dense(128, activation='relu'),\n",
        "  tf.keras.layers.Dense(10)\n",
        "])\n",
        "\n",
        "model_relu.compile(\n",
        "    loss = tf.keras.losses.SparseCategoricalCrossentropy(from_logits = True),\n",
        "    optimizer = tf.keras.optimizers.Adam(0.001), #Optimizador, en este caso utilizaremos Adam, en la segunda parte probaremos los demás\n",
        "    metrics = ['accuracy'],\n",
        ")\n",
        "\n",
        "history1 = model_relu.fit(\n",
        "    ds_train,\n",
        "    epochs = 20,\n",
        "    validation_data = ds_test,\n",
        ")"
      ],
      "execution_count": 5,
      "outputs": [
        {
          "output_type": "stream",
          "name": "stdout",
          "text": [
            "Epoch 1/20\n",
            "469/469 [==============================] - 3s 6ms/step - loss: 0.3591 - accuracy: 0.9008 - val_loss: 0.1896 - val_accuracy: 0.9448\n",
            "Epoch 2/20\n",
            "469/469 [==============================] - 2s 4ms/step - loss: 0.1638 - accuracy: 0.9530 - val_loss: 0.1348 - val_accuracy: 0.9607\n",
            "Epoch 3/20\n",
            "469/469 [==============================] - 2s 3ms/step - loss: 0.1181 - accuracy: 0.9664 - val_loss: 0.1101 - val_accuracy: 0.9661\n",
            "Epoch 4/20\n",
            "469/469 [==============================] - 2s 3ms/step - loss: 0.0923 - accuracy: 0.9732 - val_loss: 0.0955 - val_accuracy: 0.9692\n",
            "Epoch 5/20\n",
            "469/469 [==============================] - 2s 3ms/step - loss: 0.0734 - accuracy: 0.9786 - val_loss: 0.0830 - val_accuracy: 0.9729\n",
            "Epoch 6/20\n",
            "469/469 [==============================] - 2s 3ms/step - loss: 0.0604 - accuracy: 0.9824 - val_loss: 0.0832 - val_accuracy: 0.9726\n",
            "Epoch 7/20\n",
            "469/469 [==============================] - 2s 4ms/step - loss: 0.0504 - accuracy: 0.9852 - val_loss: 0.0725 - val_accuracy: 0.9765\n",
            "Epoch 8/20\n",
            "469/469 [==============================] - 2s 3ms/step - loss: 0.0417 - accuracy: 0.9885 - val_loss: 0.0784 - val_accuracy: 0.9750\n",
            "Epoch 9/20\n",
            "469/469 [==============================] - 2s 3ms/step - loss: 0.0361 - accuracy: 0.9898 - val_loss: 0.0703 - val_accuracy: 0.9775\n",
            "Epoch 10/20\n",
            "469/469 [==============================] - 2s 3ms/step - loss: 0.0305 - accuracy: 0.9915 - val_loss: 0.0686 - val_accuracy: 0.9769\n",
            "Epoch 11/20\n",
            "469/469 [==============================] - 2s 3ms/step - loss: 0.0260 - accuracy: 0.9930 - val_loss: 0.0695 - val_accuracy: 0.9766\n",
            "Epoch 12/20\n",
            "469/469 [==============================] - 2s 4ms/step - loss: 0.0214 - accuracy: 0.9947 - val_loss: 0.0669 - val_accuracy: 0.9796\n",
            "Epoch 13/20\n",
            "469/469 [==============================] - 2s 3ms/step - loss: 0.0181 - accuracy: 0.9955 - val_loss: 0.0711 - val_accuracy: 0.9786\n",
            "Epoch 14/20\n",
            "469/469 [==============================] - 2s 4ms/step - loss: 0.0154 - accuracy: 0.9967 - val_loss: 0.0741 - val_accuracy: 0.9766\n",
            "Epoch 15/20\n",
            "469/469 [==============================] - 2s 4ms/step - loss: 0.0130 - accuracy: 0.9972 - val_loss: 0.0752 - val_accuracy: 0.9782\n",
            "Epoch 16/20\n",
            "469/469 [==============================] - 2s 5ms/step - loss: 0.0114 - accuracy: 0.9976 - val_loss: 0.0770 - val_accuracy: 0.9771\n",
            "Epoch 17/20\n",
            "469/469 [==============================] - 2s 3ms/step - loss: 0.0092 - accuracy: 0.9983 - val_loss: 0.0740 - val_accuracy: 0.9773\n",
            "Epoch 18/20\n",
            "469/469 [==============================] - 2s 4ms/step - loss: 0.0086 - accuracy: 0.9983 - val_loss: 0.0723 - val_accuracy: 0.9775\n",
            "Epoch 19/20\n",
            "469/469 [==============================] - 2s 3ms/step - loss: 0.0068 - accuracy: 0.9989 - val_loss: 0.0755 - val_accuracy: 0.9784\n",
            "Epoch 20/20\n",
            "469/469 [==============================] - 2s 3ms/step - loss: 0.0062 - accuracy: 0.9991 - val_loss: 0.0767 - val_accuracy: 0.9782\n"
          ]
        }
      ]
    },
    {
      "cell_type": "code",
      "source": [
        "# MODELO CON FUNCIÓN DE ACTIVACIÓN SIGMOID\n",
        "\n",
        "model_sigmoid = tf.keras.models.Sequential([\n",
        "  tf.keras.layers.Flatten(input_shape=(28, 28)),\n",
        "  tf.keras.layers.Dense(128, activation='sigmoid'), # <---- capas ocultas\n",
        "  #tf.keras.layers.Dense(128, activation='sigmoid'),\n",
        "  #tf.keras.layers.Dense(128, activation='sigmoid'),\n",
        "  tf.keras.layers.Dense(10)\n",
        "])\n",
        "\n",
        "model_sigmoid.compile(\n",
        "    loss = tf.keras.losses.SparseCategoricalCrossentropy(from_logits = True),\n",
        "    optimizer = tf.keras.optimizers.Adam(0.001), #Optimizador, en este caso utilizaremos Adam, en la segunda parte probaremos los demás\n",
        "    metrics = ['accuracy'],\n",
        ")\n",
        "\n",
        "history2 = model_sigmoid.fit(\n",
        "    ds_train,\n",
        "    epochs = 20,\n",
        "    validation_data = ds_test,\n",
        ")"
      ],
      "metadata": {
        "colab": {
          "base_uri": "https://localhost:8080/"
        },
        "id": "uTBdJoV3wDXf",
        "outputId": "eb31873f-5b2b-47f7-d17e-2e12b108e2a6"
      },
      "execution_count": 6,
      "outputs": [
        {
          "output_type": "stream",
          "name": "stdout",
          "text": [
            "Epoch 1/20\n",
            "469/469 [==============================] - 2s 4ms/step - loss: 0.5968 - accuracy: 0.8564 - val_loss: 0.3065 - val_accuracy: 0.9168\n",
            "Epoch 2/20\n",
            "469/469 [==============================] - 2s 4ms/step - loss: 0.2759 - accuracy: 0.9225 - val_loss: 0.2379 - val_accuracy: 0.9318\n",
            "Epoch 3/20\n",
            "469/469 [==============================] - 2s 3ms/step - loss: 0.2203 - accuracy: 0.9381 - val_loss: 0.2000 - val_accuracy: 0.9425\n",
            "Epoch 4/20\n",
            "469/469 [==============================] - 2s 3ms/step - loss: 0.1844 - accuracy: 0.9477 - val_loss: 0.1710 - val_accuracy: 0.9503\n",
            "Epoch 5/20\n",
            "469/469 [==============================] - 2s 3ms/step - loss: 0.1586 - accuracy: 0.9545 - val_loss: 0.1517 - val_accuracy: 0.9558\n",
            "Epoch 6/20\n",
            "469/469 [==============================] - 2s 3ms/step - loss: 0.1381 - accuracy: 0.9609 - val_loss: 0.1371 - val_accuracy: 0.9600\n",
            "Epoch 7/20\n",
            "469/469 [==============================] - 2s 4ms/step - loss: 0.1218 - accuracy: 0.9657 - val_loss: 0.1271 - val_accuracy: 0.9619\n",
            "Epoch 8/20\n",
            "469/469 [==============================] - 2s 3ms/step - loss: 0.1081 - accuracy: 0.9696 - val_loss: 0.1187 - val_accuracy: 0.9661\n",
            "Epoch 9/20\n",
            "469/469 [==============================] - 2s 3ms/step - loss: 0.0966 - accuracy: 0.9729 - val_loss: 0.1125 - val_accuracy: 0.9660\n",
            "Epoch 10/20\n",
            "469/469 [==============================] - 2s 4ms/step - loss: 0.0864 - accuracy: 0.9758 - val_loss: 0.1025 - val_accuracy: 0.9699\n",
            "Epoch 11/20\n",
            "469/469 [==============================] - 2s 3ms/step - loss: 0.0778 - accuracy: 0.9785 - val_loss: 0.0968 - val_accuracy: 0.9709\n",
            "Epoch 12/20\n",
            "469/469 [==============================] - 2s 4ms/step - loss: 0.0700 - accuracy: 0.9809 - val_loss: 0.0949 - val_accuracy: 0.9709\n",
            "Epoch 13/20\n",
            "469/469 [==============================] - 2s 3ms/step - loss: 0.0633 - accuracy: 0.9828 - val_loss: 0.0884 - val_accuracy: 0.9731\n",
            "Epoch 14/20\n",
            "469/469 [==============================] - 2s 4ms/step - loss: 0.0575 - accuracy: 0.9847 - val_loss: 0.0869 - val_accuracy: 0.9735\n",
            "Epoch 15/20\n",
            "469/469 [==============================] - 2s 4ms/step - loss: 0.0520 - accuracy: 0.9865 - val_loss: 0.0815 - val_accuracy: 0.9752\n",
            "Epoch 16/20\n",
            "469/469 [==============================] - 2s 3ms/step - loss: 0.0470 - accuracy: 0.9879 - val_loss: 0.0803 - val_accuracy: 0.9747\n",
            "Epoch 17/20\n",
            "469/469 [==============================] - 2s 4ms/step - loss: 0.0427 - accuracy: 0.9894 - val_loss: 0.0785 - val_accuracy: 0.9755\n",
            "Epoch 18/20\n",
            "469/469 [==============================] - 2s 3ms/step - loss: 0.0388 - accuracy: 0.9903 - val_loss: 0.0771 - val_accuracy: 0.9763\n",
            "Epoch 19/20\n",
            "469/469 [==============================] - 2s 4ms/step - loss: 0.0350 - accuracy: 0.9919 - val_loss: 0.0770 - val_accuracy: 0.9771\n",
            "Epoch 20/20\n",
            "469/469 [==============================] - 2s 3ms/step - loss: 0.0316 - accuracy: 0.9929 - val_loss: 0.0730 - val_accuracy: 0.9791\n"
          ]
        }
      ]
    },
    {
      "cell_type": "code",
      "source": [
        "# MODELO CON FUNCIÓN DE ACTIVACIÓN TANH\n",
        "\n",
        "model_tanh = tf.keras.models.Sequential([\n",
        "  tf.keras.layers.Flatten(input_shape=(28, 28)),\n",
        "  tf.keras.layers.Dense(128, activation='tanh'), # <---- capas ocultas\n",
        "  #tf.keras.layers.Dense(128, activation='tanh'),\n",
        "  #tf.keras.layers.Dense(128, activation='tanh'),\n",
        "  tf.keras.layers.Dense(10)\n",
        "])\n",
        "\n",
        "model_tanh.compile(\n",
        "    loss = tf.keras.losses.SparseCategoricalCrossentropy(from_logits = True),\n",
        "    optimizer = tf.keras.optimizers.Adam(0.001), #Optimizador, en este caso utilizaremos Adam, en la segunda parte probaremos los demás\n",
        "    metrics = ['accuracy'],\n",
        ")\n",
        "\n",
        "history3 = model_tanh.fit(\n",
        "    ds_train,\n",
        "    epochs = 20,\n",
        "    validation_data = ds_test,\n",
        ") "
      ],
      "metadata": {
        "colab": {
          "base_uri": "https://localhost:8080/"
        },
        "id": "OHy9HEwswLUS",
        "outputId": "05e75797-b02e-4420-c194-94cfb2dfc50c"
      },
      "execution_count": 7,
      "outputs": [
        {
          "output_type": "stream",
          "name": "stdout",
          "text": [
            "Epoch 1/20\n",
            "469/469 [==============================] - 2s 4ms/step - loss: 0.3751 - accuracy: 0.8952 - val_loss: 0.2374 - val_accuracy: 0.9323\n",
            "Epoch 2/20\n",
            "469/469 [==============================] - 2s 3ms/step - loss: 0.2004 - accuracy: 0.9430 - val_loss: 0.1674 - val_accuracy: 0.9507\n",
            "Epoch 3/20\n",
            "469/469 [==============================] - 2s 3ms/step - loss: 0.1471 - accuracy: 0.9584 - val_loss: 0.1371 - val_accuracy: 0.9581\n",
            "Epoch 4/20\n",
            "469/469 [==============================] - 2s 3ms/step - loss: 0.1140 - accuracy: 0.9677 - val_loss: 0.1126 - val_accuracy: 0.9672\n",
            "Epoch 5/20\n",
            "469/469 [==============================] - 2s 3ms/step - loss: 0.0927 - accuracy: 0.9738 - val_loss: 0.1018 - val_accuracy: 0.9683\n",
            "Epoch 6/20\n",
            "469/469 [==============================] - 2s 3ms/step - loss: 0.0757 - accuracy: 0.9791 - val_loss: 0.0928 - val_accuracy: 0.9716\n",
            "Epoch 7/20\n",
            "469/469 [==============================] - 2s 3ms/step - loss: 0.0633 - accuracy: 0.9830 - val_loss: 0.0858 - val_accuracy: 0.9737\n",
            "Epoch 8/20\n",
            "469/469 [==============================] - 2s 3ms/step - loss: 0.0528 - accuracy: 0.9859 - val_loss: 0.0841 - val_accuracy: 0.9746\n",
            "Epoch 9/20\n",
            "469/469 [==============================] - 2s 3ms/step - loss: 0.0447 - accuracy: 0.9886 - val_loss: 0.0768 - val_accuracy: 0.9768\n",
            "Epoch 10/20\n",
            "469/469 [==============================] - 2s 3ms/step - loss: 0.0374 - accuracy: 0.9905 - val_loss: 0.0756 - val_accuracy: 0.9770\n",
            "Epoch 11/20\n",
            "469/469 [==============================] - 2s 3ms/step - loss: 0.0319 - accuracy: 0.9923 - val_loss: 0.0770 - val_accuracy: 0.9767\n",
            "Epoch 12/20\n",
            "469/469 [==============================] - 2s 3ms/step - loss: 0.0266 - accuracy: 0.9943 - val_loss: 0.0777 - val_accuracy: 0.9771\n",
            "Epoch 13/20\n",
            "469/469 [==============================] - 2s 4ms/step - loss: 0.0222 - accuracy: 0.9955 - val_loss: 0.0743 - val_accuracy: 0.9778\n",
            "Epoch 14/20\n",
            "469/469 [==============================] - 2s 3ms/step - loss: 0.0189 - accuracy: 0.9965 - val_loss: 0.0729 - val_accuracy: 0.9787\n",
            "Epoch 15/20\n",
            "469/469 [==============================] - 2s 4ms/step - loss: 0.0156 - accuracy: 0.9974 - val_loss: 0.0731 - val_accuracy: 0.9778\n",
            "Epoch 16/20\n",
            "469/469 [==============================] - 2s 3ms/step - loss: 0.0131 - accuracy: 0.9982 - val_loss: 0.0732 - val_accuracy: 0.9788\n",
            "Epoch 17/20\n",
            "469/469 [==============================] - 2s 3ms/step - loss: 0.0116 - accuracy: 0.9985 - val_loss: 0.0752 - val_accuracy: 0.9778\n",
            "Epoch 18/20\n",
            "469/469 [==============================] - 2s 4ms/step - loss: 0.0094 - accuracy: 0.9991 - val_loss: 0.0748 - val_accuracy: 0.9790\n",
            "Epoch 19/20\n",
            "469/469 [==============================] - 2s 3ms/step - loss: 0.0076 - accuracy: 0.9993 - val_loss: 0.0722 - val_accuracy: 0.9797\n",
            "Epoch 20/20\n",
            "469/469 [==============================] - 2s 3ms/step - loss: 0.0066 - accuracy: 0.9994 - val_loss: 0.0744 - val_accuracy: 0.9794\n"
          ]
        }
      ]
    },
    {
      "cell_type": "markdown",
      "metadata": {
        "id": "MIGdwjoLYE5Q"
      },
      "source": [
        "## 2. Resultados obtenidos\n",
        "\n"
      ]
    },
    {
      "cell_type": "markdown",
      "source": [
        "$$\n",
        "\\begin{aligned}\n",
        "& \\hspace{60mm} \\text  {Tabla 1.1. Rendimiento redes FeedForward }\\\\\n",
        "&\\begin{array}{cccc}\n",
        "\\hline \\hline \\text {     } & \\text { ReLu } & \\text { Tanh } & \\text { Sigmoid } \\\\\n",
        "\\hline \\hline \\text {     } & \\text { val_acc }\\hspace{10mm}  { tiempo_s } & \\text { val_acc }\\hspace{10mm} { tiempo_s } & \\text { val_acc }\\hspace{10mm} { tiempo_s } \\\\\n",
        "\\hline \\text{ 1 capa oculta }&\\text{0.9499}\\hspace{10mm} {2} &\\text{0.9249}\\hspace{10mm} {2}&\\text{0.9381}\\hspace{10mm} {3}  \\\\\n",
        "\\text{ 2 capas ocultas }&\\text{0.9682}\\hspace{10mm} {3} &\\text{0.9365}\\hspace{10mm} {3}&\\text{0.9484}\\hspace{10mm} {3}  \\\\\n",
        "\\text{ 3 capas ocultas }&\\text{0.9718}\\hspace{10mm} {3} &\\text{0.9301}\\hspace{10mm} {3}&\\text{0.9472}\\hspace{10mm} {3}  \\\\\n",
        "\\hline\n",
        "\\end{array}\n",
        "\\end{aligned}\n",
        "$$"
      ],
      "metadata": {
        "id": "LSrRF7jNIjIl"
      }
    },
    {
      "cell_type": "markdown",
      "metadata": {
        "id": "2t8O4IBGj22-"
      },
      "source": [
        "## 3. Análisis de resultados   "
      ]
    },
    {
      "cell_type": "markdown",
      "metadata": {
        "id": "vOX0KWcbkFPA"
      },
      "source": [
        "* **¿Existieron cambios significativos en el tiempo de entrenamiento?** \n"
      ]
    },
    {
      "cell_type": "markdown",
      "metadata": {
        "id": "V4rgRbpzkPR2"
      },
      "source": [
        "Los resultados de las redes FeedForward con diferentes funciones de activación no varían en tiempo. Teniendo la ReLu, Tanh y Sigmoid en las pruebas de las una a tres capas ocultas la misma velocidad. Se teoriza que esto puede deberse a la simplicidad de la operación y cantidad de datos. Más no es igual en la medición de tiempo entre diferente número de capas ocultas. Teniendo una clara ventaja en tiempo, los modelos con solo 1 capa oculta, con 2 y 3 capas tardan 1 segundo más. Esto lo atribuimos directamente a que, la cantidad de capas y sus neuronas es proporcional al tiempo que tarde en efectuarse el entrenamiento."
      ]
    },
    {
      "cell_type": "markdown",
      "metadata": {
        "id": "AUWzrBiXkTPg"
      },
      "source": [
        "\n",
        "* **¿Cuál fue el impacto en la precisión de la clasificación?**\n"
      ]
    },
    {
      "cell_type": "markdown",
      "metadata": {
        "id": "_HCTku5ukZAv"
      },
      "source": [
        "En cuanto a la precisión al momento de realizar el entrenamiento, podemos notar que en las 3 funciones de activación y tanto ejecutando 1 hasta 3 capas, el valor de la precisión siempre se ha encontrado por encima del 90% (0.9000), por lo que tampoco ha existido una mayor diferencia de precisión entre los 3 tipos de funciones (ReLu, Sigmoid y Tahn), esto se debe a que el modelo mismo posee una cantidad pequeña de datos (comparado a otros modelos con una mayor cantidad de información), por lo que la diferencia no será tan notoria en un caso como este."
      ]
    },
    {
      "cell_type": "markdown",
      "metadata": {
        "id": "8m4qAOWjkagH"
      },
      "source": [
        "\n",
        "\n",
        "\n",
        "* **De acuerdo a lo aprendido y experimentado en tiempos de entrenamiento, ¿por qué se producen diferencias entre una función y otra?**"
      ]
    },
    {
      "cell_type": "markdown",
      "metadata": {
        "id": "dV-ocIWzkcF3"
      },
      "source": [
        "En cuanto a la precisión del modelo, podemos ver que la función ReLu es la que mejor se ajusta en los tres escenarios. En segundo lugar, está la Sigmoide y tercer lugar la Tanh. Interpretamos y teorizamos que esto puede deberse a la salida que generan estas. Por ejemplo, la sigmoidal genera datos en el rango de 0 y 1 y cuando ingresan valores muy negativos o muy positivos se satura y la función de error que se genera en el entrenamiento y que compara la categoría que asigna la neurona durante la clasificación con la que realmente pertenece no es representada de la mejor manera. La función tangente hiperbólica posee un problema bastante similar a la anterior. Pero, la función rectified linear unit, puede entregar por salida valores mucho más representativos y el contraste con la función de error es más certero."
      ]
    },
    {
      "cell_type": "markdown",
      "metadata": {
        "id": "1ud7T8Yskfbw"
      },
      "source": [
        "**Para los tres modelos, se adjunta un gráfico que muestra la evolución de la precisión y otro la evolución de la pérdida, visualiza también las 3 funciones de activación** "
      ]
    },
    {
      "cell_type": "code",
      "metadata": {
        "id": "NX907_65kkOe",
        "colab": {
          "base_uri": "https://localhost:8080/",
          "height": 466
        },
        "outputId": "c1b86119-f7c9-4e7c-c9f5-73a25fe7d51f"
      },
      "source": [
        "#################################\n",
        "# Inserta tus gráficos aquí\n",
        "\n",
        "plt.figure(figsize=(25, 15))\n",
        "\n",
        "# Gráfico de presición\n",
        "\n",
        "ax = plt.subplot(2,2, 1)\n",
        "plt.plot(history1.history['accuracy'])\n",
        "plt.plot(history1.history['val_accuracy'])\n",
        "plt.plot(history2.history['accuracy'])\n",
        "plt.plot(history2.history['val_accuracy'])\n",
        "plt.plot(history3.history['accuracy'])\n",
        "plt.plot(history3.history['val_accuracy'])\n",
        "plt.title('Precisión del modelo')\n",
        "plt.ylabel('accuracy')\n",
        "plt.xlabel('epoch')\n",
        "plt.legend(['train_relu', 'test_relu', 'train_sigmoid', 'test_sigmoid', 'train_tanh', 'test,tanh'], loc='lower right')\n",
        "\n",
        "# Gráfico de perdida\n",
        "\n",
        "ax = plt.subplot(2,2, 2)\n",
        "plt.plot(history1.history['loss'])\n",
        "plt.plot(history1.history['val_loss'])\n",
        "plt.plot(history2.history['loss'])\n",
        "plt.plot(history2.history['val_loss'])\n",
        "plt.plot(history3.history['loss'])\n",
        "plt.plot(history3.history['val_loss'])\n",
        "plt.title('Perdida del modelo')\n",
        "plt.ylabel('loss')\n",
        "plt.xlabel('epoch')\n",
        "plt.legend(['train_relu', 'test_relu', 'train_sigmoid', 'test_sigmoid', 'train_tanh', 'test,tanh'], loc = 'upper right')\n",
        "\n",
        "#################################"
      ],
      "execution_count": 8,
      "outputs": [
        {
          "output_type": "execute_result",
          "data": {
            "text/plain": [
              "<matplotlib.legend.Legend at 0x7f9a94d73b50>"
            ]
          },
          "metadata": {},
          "execution_count": 8
        },
        {
          "output_type": "display_data",
          "data": {
            "text/plain": [
              "<Figure size 1800x1080 with 2 Axes>"
            ],
            "image/png": "[encoded data removed]"
          },
          "metadata": {
            "needs_background": "light"
          }
        }
      ]
    },
    {
      "cell_type": "markdown",
      "metadata": {
        "id": "Du2aw9weVxuo"
      },
      "source": [
        "#  Parte 2. \n",
        "\n",
        "Mejorando el accuracy del Modelo Red Neuronal feedforward fully connected (MLP), modificando capacidades en cuanto a capas ocultas, épocas y optimizadores. "
      ]
    },
    {
      "cell_type": "code",
      "metadata": {
        "id": "ecI-Nw3GqDlT",
        "colab": {
          "base_uri": "https://localhost:8080/",
          "height": 187,
          "referenced_widgets": [
            "8c894e6cea7a49448377058bf41f3f1c",
            "2c92e8ced4724ba3b1ecead324868e7a",
            "fbd2bb18c0d6401caf22888934a5b80a",
            "e99f2eee6bf74e8aa00ba9ae173067d7",
            "09f6ed8b2683496cbfbb73143b7bb3e8",
            "9a144ef006be4a60bba1ff4911c0422e",
            "9659384bc62c42778e145b6f28d7f12f",
            "473a05150be249708983232c398ff201",
            "4a9a361f90634107ae3cc2189c213212",
            "c335dbea45a149909254b212f57bd78e",
            "6e8502dfe7694bf9877e9a9db7089f85"
          ]
        },
        "outputId": "befa766a-a3ed-47c8-a4b1-4f03c9b3366e"
      },
      "source": [
        "###############################\n",
        "# Entrena nuevamente la red modificando capacidad\n",
        "\n",
        "import tensorflow as tf\n",
        "import tensorflow_datasets as tfds\n",
        "from tensorflow.keras.datasets import mnist\n",
        "\n",
        "batch_size = 128\n",
        "layer1_dense_size = 128\n",
        "\n",
        "#Carga del dataset\n",
        "(ds_train, ds_test), ds_info = tfds.load(\n",
        "    'mnist',\n",
        "    split = ['train', 'test'],\n",
        "    shuffle_files = True,\n",
        "    as_supervised = True,\n",
        "    with_info = True,\n",
        ")\n",
        "###############################"
      ],
      "execution_count": null,
      "outputs": [
        {
          "output_type": "stream",
          "name": "stdout",
          "text": [
            "\u001b[1mDownloading and preparing dataset mnist/3.0.1 (download: 11.06 MiB, generated: 21.00 MiB, total: 32.06 MiB) to /root/tensorflow_datasets/mnist/3.0.1...\u001b[0m\n"
          ]
        },
        {
          "output_type": "stream",
          "name": "stderr",
          "text": [
            "WARNING:absl:Dataset mnist is hosted on GCS. It will automatically be downloaded to your\n",
            "local data directory. If you'd instead prefer to read directly from our public\n",
            "GCS bucket (recommended if you're running on GCP), you can instead pass\n",
            "`try_gcs=True` to `tfds.load` or set `data_dir=gs://tfds-data/datasets`.\n",
            "\n"
          ]
        },
        {
          "output_type": "display_data",
          "data": {
            "text/plain": [
              "Dl Completed...:   0%|          | 0/4 [00:00<?, ? file/s]"
            ],
            "application/vnd.jupyter.widget-view+json": {
              "version_major": 2,
              "version_minor": 0,
              "model_id": "8c894e6cea7a49448377058bf41f3f1c"
            }
          },
          "metadata": {}
        },
        {
          "output_type": "stream",
          "name": "stdout",
          "text": [
            "\n",
            "\u001b[1mDataset mnist downloaded and prepared to /root/tensorflow_datasets/mnist/3.0.1. Subsequent calls will reuse this data.\u001b[0m\n"
          ]
        }
      ]
    },
    {
      "cell_type": "code",
      "source": [
        "def normalize_img(image, label):\n",
        "  return tf.cast(image, tf.float32) / 255., label"
      ],
      "metadata": {
        "id": "S6A4Ftygk6nV"
      },
      "execution_count": null,
      "outputs": []
    },
    {
      "cell_type": "code",
      "source": [
        "ds_train = ds_train.map(\n",
        "    normalize_img, num_parallel_calls = tf.data.AUTOTUNE\n",
        ")\n",
        "ds_train = ds_train.cache()\n",
        "ds_train = ds_train.shuffle(ds_info.splits['train'].num_examples)\n",
        "ds_train = ds_train.batch(batch_size)\n",
        "ds_train = ds_train.prefetch(tf.data.AUTOTUNE)\n",
        "\n",
        "\n",
        "ds_test = ds_test.map(\n",
        "    normalize_img, num_parallel_calls = tf.data.AUTOTUNE\n",
        ")\n",
        "ds_test = ds_test.batch(batch_size)\n",
        "ds_test = ds_test.cache()\n",
        "ds_test = ds_test.prefetch(tf.data.AUTOTUNE)"
      ],
      "metadata": {
        "id": "VddDUC0beFZ6"
      },
      "execution_count": null,
      "outputs": []
    },
    {
      "cell_type": "code",
      "source": [
        "# Visualizar las imagenes\n",
        "import matplotlib.pyplot as plt\n",
        "import numpy as np\n",
        "\n",
        "plt.figure(figsize=(6,6))\n",
        "for images, labels in ds_train.take(1):\n",
        "  for i in range(9):\n",
        "    images_array = np.array(images[i], dtype='float')\n",
        "    pixels = images_array.reshape((28, 28))\n",
        "    ax = plt.subplot(3, 3, i + 1)\n",
        "    plt.imshow(pixels, cmap='gray')\n",
        "    plt.title(int(labels[i]))\n",
        "    plt.axis(\"off\")"
      ],
      "metadata": {
        "colab": {
          "base_uri": "https://localhost:8080/",
          "height": 372
        },
        "id": "aq8nNa__k9l0",
        "outputId": "4db3be74-ec34-40ca-9b4b-c515f62dce01"
      },
      "execution_count": null,
      "outputs": [
        {
          "output_type": "display_data",
          "data": {
            "text/plain": [
              "<Figure size 432x432 with 9 Axes>"
            ],
            "image/png": "[encoded data removed]"
          },
          "metadata": {
            "needs_background": "light"
          }
        }
      ]
    },
    {
      "cell_type": "markdown",
      "source": [
        "## 4. Modificando las capacidades de la red neuronal\n",
        "\n",
        "En cuanto a los optimizadores, estos pueden ser cambiados dentro de la variable **optimizer**, en este caso se usarán los optimizadores Adam, SGD y RMSprop. Se usarán diferentes combinaciones de capas ocultas, épocas y optimizadores, para posteriormente registrar los resultados obtenidos."
      ],
      "metadata": {
        "id": "Owz1nnRPUyOl"
      }
    },
    {
      "cell_type": "code",
      "source": [
        "model_relu = tf.keras.models.Sequential([\n",
        "  tf.keras.layers.Flatten(input_shape=(28, 28)),\n",
        "  tf.keras.layers.Dense(128, activation='relu'), # <---- capas ocultas\n",
        "  tf.keras.layers.Dense(10)\n",
        "])\n",
        "\n",
        "model_relu.compile(\n",
        "    loss = tf.keras.losses.SparseCategoricalCrossentropy(from_logits = True),\n",
        "    optimizer = tf.keras.optimizers.RMSprop(0.001), # <---- optimizador\n",
        "    metrics = ['accuracy'],\n",
        ")\n",
        "\n",
        "history1 = model_relu.fit(\n",
        "    ds_train,\n",
        "    epochs = 5,\n",
        "    validation_data = ds_test,\n",
        ")"
      ],
      "metadata": {
        "colab": {
          "base_uri": "https://localhost:8080/"
        },
        "id": "OWfRdlLCeJc9",
        "outputId": "641a214a-14f4-4c37-fe19-50316ff29f53"
      },
      "execution_count": null,
      "outputs": [
        {
          "output_type": "stream",
          "name": "stdout",
          "text": [
            "Epoch 1/30\n",
            "469/469 [==============================] - 2s 4ms/step - loss: 0.3421 - accuracy: 0.9053 - val_loss: 0.1909 - val_accuracy: 0.9434\n",
            "Epoch 2/30\n",
            "469/469 [==============================] - 2s 4ms/step - loss: 0.1597 - accuracy: 0.9543 - val_loss: 0.1301 - val_accuracy: 0.9614\n",
            "Epoch 3/30\n",
            "469/469 [==============================] - 2s 4ms/step - loss: 0.1124 - accuracy: 0.9677 - val_loss: 0.1114 - val_accuracy: 0.9683\n",
            "Epoch 4/30\n",
            "469/469 [==============================] - 2s 4ms/step - loss: 0.0878 - accuracy: 0.9743 - val_loss: 0.0911 - val_accuracy: 0.9726\n",
            "Epoch 5/30\n",
            "469/469 [==============================] - 2s 4ms/step - loss: 0.0711 - accuracy: 0.9794 - val_loss: 0.1034 - val_accuracy: 0.9691\n",
            "Epoch 6/30\n",
            "469/469 [==============================] - 2s 3ms/step - loss: 0.0599 - accuracy: 0.9828 - val_loss: 0.0796 - val_accuracy: 0.9757\n",
            "Epoch 7/30\n",
            "469/469 [==============================] - 2s 4ms/step - loss: 0.0511 - accuracy: 0.9850 - val_loss: 0.0790 - val_accuracy: 0.9766\n",
            "Epoch 8/30\n",
            "469/469 [==============================] - 2s 4ms/step - loss: 0.0438 - accuracy: 0.9873 - val_loss: 0.0760 - val_accuracy: 0.9776\n",
            "Epoch 9/30\n",
            "469/469 [==============================] - 2s 3ms/step - loss: 0.0383 - accuracy: 0.9891 - val_loss: 0.0736 - val_accuracy: 0.9778\n",
            "Epoch 10/30\n",
            "469/469 [==============================] - 2s 4ms/step - loss: 0.0325 - accuracy: 0.9909 - val_loss: 0.0747 - val_accuracy: 0.9787\n",
            "Epoch 11/30\n",
            "469/469 [==============================] - 2s 4ms/step - loss: 0.0285 - accuracy: 0.9919 - val_loss: 0.0786 - val_accuracy: 0.9777\n",
            "Epoch 12/30\n",
            "469/469 [==============================] - 2s 3ms/step - loss: 0.0247 - accuracy: 0.9932 - val_loss: 0.0705 - val_accuracy: 0.9805\n",
            "Epoch 13/30\n",
            "469/469 [==============================] - 2s 4ms/step - loss: 0.0213 - accuracy: 0.9942 - val_loss: 0.0809 - val_accuracy: 0.9777\n",
            "Epoch 14/30\n",
            "469/469 [==============================] - 2s 4ms/step - loss: 0.0188 - accuracy: 0.9952 - val_loss: 0.0760 - val_accuracy: 0.9785\n",
            "Epoch 15/30\n",
            "469/469 [==============================] - 2s 3ms/step - loss: 0.0161 - accuracy: 0.9956 - val_loss: 0.0780 - val_accuracy: 0.9795\n",
            "Epoch 16/30\n",
            "469/469 [==============================] - 2s 4ms/step - loss: 0.0142 - accuracy: 0.9964 - val_loss: 0.0791 - val_accuracy: 0.9786\n",
            "Epoch 17/30\n",
            "469/469 [==============================] - 2s 4ms/step - loss: 0.0122 - accuracy: 0.9969 - val_loss: 0.0841 - val_accuracy: 0.9773\n",
            "Epoch 18/30\n",
            "469/469 [==============================] - 2s 4ms/step - loss: 0.0109 - accuracy: 0.9974 - val_loss: 0.0873 - val_accuracy: 0.9788\n",
            "Epoch 19/30\n",
            "469/469 [==============================] - 2s 4ms/step - loss: 0.0092 - accuracy: 0.9977 - val_loss: 0.0843 - val_accuracy: 0.9774\n",
            "Epoch 20/30\n",
            "469/469 [==============================] - 2s 4ms/step - loss: 0.0079 - accuracy: 0.9982 - val_loss: 0.0877 - val_accuracy: 0.9793\n",
            "Epoch 21/30\n",
            "469/469 [==============================] - 2s 4ms/step - loss: 0.0070 - accuracy: 0.9985 - val_loss: 0.0896 - val_accuracy: 0.9795\n",
            "Epoch 22/30\n",
            "469/469 [==============================] - 2s 4ms/step - loss: 0.0062 - accuracy: 0.9987 - val_loss: 0.0867 - val_accuracy: 0.9782\n",
            "Epoch 23/30\n",
            "469/469 [==============================] - 2s 4ms/step - loss: 0.0053 - accuracy: 0.9988 - val_loss: 0.0880 - val_accuracy: 0.9790\n",
            "Epoch 24/30\n",
            "469/469 [==============================] - 2s 4ms/step - loss: 0.0044 - accuracy: 0.9990 - val_loss: 0.0911 - val_accuracy: 0.9787\n",
            "Epoch 25/30\n",
            "469/469 [==============================] - 2s 4ms/step - loss: 0.0040 - accuracy: 0.9991 - val_loss: 0.0942 - val_accuracy: 0.9788\n",
            "Epoch 26/30\n",
            "469/469 [==============================] - 2s 4ms/step - loss: 0.0034 - accuracy: 0.9994 - val_loss: 0.0959 - val_accuracy: 0.9776\n",
            "Epoch 27/30\n",
            "469/469 [==============================] - 2s 4ms/step - loss: 0.0028 - accuracy: 0.9995 - val_loss: 0.0982 - val_accuracy: 0.9795\n",
            "Epoch 28/30\n",
            "469/469 [==============================] - 2s 4ms/step - loss: 0.0026 - accuracy: 0.9995 - val_loss: 0.0999 - val_accuracy: 0.9794\n",
            "Epoch 29/30\n",
            "469/469 [==============================] - 2s 4ms/step - loss: 0.0021 - accuracy: 0.9996 - val_loss: 0.0981 - val_accuracy: 0.9777\n",
            "Epoch 30/30\n",
            "469/469 [==============================] - 2s 4ms/step - loss: 0.0017 - accuracy: 0.9998 - val_loss: 0.1025 - val_accuracy: 0.9784\n"
          ]
        }
      ]
    },
    {
      "cell_type": "code",
      "source": [
        "model_sigmoid = tf.keras.models.Sequential([\n",
        "  tf.keras.layers.Flatten(input_shape=(28, 28)),\n",
        "  tf.keras.layers.Dense(128, activation='sigmoid'), # <---- capas ocultas\n",
        "  tf.keras.layers.Dense(10)\n",
        "])\n",
        "\n",
        "model_sigmoid.compile(\n",
        "    loss = tf.keras.losses.SparseCategoricalCrossentropy(from_logits = True),\n",
        "    optimizer = tf.keras.optimizers.RMSprop(0.001), # <---- optimizador\n",
        "    metrics = ['accuracy'],\n",
        ")\n",
        "\n",
        "history2 = model_sigmoid.fit(\n",
        "    ds_train,\n",
        "    epochs = 30,\n",
        "    validation_data = ds_test,\n",
        ")"
      ],
      "metadata": {
        "colab": {
          "base_uri": "https://localhost:8080/"
        },
        "id": "V227zufnr7XZ",
        "outputId": "7a0402c3-1d0a-4734-c281-86f606b10453"
      },
      "execution_count": null,
      "outputs": [
        {
          "output_type": "stream",
          "name": "stdout",
          "text": [
            "Epoch 1/30\n",
            "469/469 [==============================] - 3s 5ms/step - loss: 0.5369 - accuracy: 0.8702 - val_loss: 0.2794 - val_accuracy: 0.9215\n",
            "Epoch 2/30\n",
            "469/469 [==============================] - 2s 5ms/step - loss: 0.2509 - accuracy: 0.9282 - val_loss: 0.2144 - val_accuracy: 0.9376\n",
            "Epoch 3/30\n",
            "469/469 [==============================] - 2s 5ms/step - loss: 0.2011 - accuracy: 0.9415 - val_loss: 0.1840 - val_accuracy: 0.9464\n",
            "Epoch 4/30\n",
            "469/469 [==============================] - 2s 4ms/step - loss: 0.1691 - accuracy: 0.9515 - val_loss: 0.1614 - val_accuracy: 0.9510\n",
            "Epoch 5/30\n",
            "469/469 [==============================] - 2s 4ms/step - loss: 0.1461 - accuracy: 0.9575 - val_loss: 0.1448 - val_accuracy: 0.9581\n",
            "Epoch 6/30\n",
            "469/469 [==============================] - 2s 4ms/step - loss: 0.1281 - accuracy: 0.9630 - val_loss: 0.1294 - val_accuracy: 0.9617\n",
            "Epoch 7/30\n",
            "469/469 [==============================] - 2s 4ms/step - loss: 0.1133 - accuracy: 0.9672 - val_loss: 0.1204 - val_accuracy: 0.9647\n",
            "Epoch 8/30\n",
            "469/469 [==============================] - 2s 4ms/step - loss: 0.1014 - accuracy: 0.9711 - val_loss: 0.1094 - val_accuracy: 0.9669\n",
            "Epoch 9/30\n",
            "469/469 [==============================] - 2s 4ms/step - loss: 0.0914 - accuracy: 0.9737 - val_loss: 0.1047 - val_accuracy: 0.9685\n",
            "Epoch 10/30\n",
            "469/469 [==============================] - 2s 4ms/step - loss: 0.0829 - accuracy: 0.9765 - val_loss: 0.0999 - val_accuracy: 0.9717\n",
            "Epoch 11/30\n",
            "469/469 [==============================] - 2s 4ms/step - loss: 0.0754 - accuracy: 0.9786 - val_loss: 0.0946 - val_accuracy: 0.9715\n",
            "Epoch 12/30\n",
            "469/469 [==============================] - 2s 4ms/step - loss: 0.0691 - accuracy: 0.9806 - val_loss: 0.0896 - val_accuracy: 0.9731\n",
            "Epoch 13/30\n",
            "469/469 [==============================] - 2s 4ms/step - loss: 0.0636 - accuracy: 0.9823 - val_loss: 0.0870 - val_accuracy: 0.9727\n",
            "Epoch 14/30\n",
            "469/469 [==============================] - 2s 4ms/step - loss: 0.0588 - accuracy: 0.9835 - val_loss: 0.0835 - val_accuracy: 0.9752\n",
            "Epoch 15/30\n",
            "469/469 [==============================] - 2s 4ms/step - loss: 0.0540 - accuracy: 0.9851 - val_loss: 0.0817 - val_accuracy: 0.9747\n",
            "Epoch 16/30\n",
            "469/469 [==============================] - 2s 4ms/step - loss: 0.0501 - accuracy: 0.9864 - val_loss: 0.0795 - val_accuracy: 0.9754\n",
            "Epoch 17/30\n",
            "469/469 [==============================] - 2s 4ms/step - loss: 0.0462 - accuracy: 0.9873 - val_loss: 0.0780 - val_accuracy: 0.9762\n",
            "Epoch 18/30\n",
            "469/469 [==============================] - 2s 4ms/step - loss: 0.0428 - accuracy: 0.9887 - val_loss: 0.0791 - val_accuracy: 0.9767\n",
            "Epoch 19/30\n",
            "469/469 [==============================] - 2s 4ms/step - loss: 0.0399 - accuracy: 0.9895 - val_loss: 0.0766 - val_accuracy: 0.9773\n",
            "Epoch 20/30\n",
            "469/469 [==============================] - 2s 4ms/step - loss: 0.0370 - accuracy: 0.9903 - val_loss: 0.0745 - val_accuracy: 0.9778\n",
            "Epoch 21/30\n",
            "469/469 [==============================] - 2s 4ms/step - loss: 0.0342 - accuracy: 0.9914 - val_loss: 0.0761 - val_accuracy: 0.9779\n",
            "Epoch 22/30\n",
            "469/469 [==============================] - 2s 4ms/step - loss: 0.0320 - accuracy: 0.9919 - val_loss: 0.0726 - val_accuracy: 0.9781\n",
            "Epoch 23/30\n",
            "469/469 [==============================] - 2s 4ms/step - loss: 0.0299 - accuracy: 0.9930 - val_loss: 0.0723 - val_accuracy: 0.9775\n",
            "Epoch 24/30\n",
            "469/469 [==============================] - 2s 4ms/step - loss: 0.0277 - accuracy: 0.9934 - val_loss: 0.0738 - val_accuracy: 0.9774\n",
            "Epoch 25/30\n",
            "469/469 [==============================] - 2s 4ms/step - loss: 0.0257 - accuracy: 0.9940 - val_loss: 0.0715 - val_accuracy: 0.9788\n",
            "Epoch 26/30\n",
            "469/469 [==============================] - 2s 4ms/step - loss: 0.0241 - accuracy: 0.9945 - val_loss: 0.0730 - val_accuracy: 0.9783\n",
            "Epoch 27/30\n",
            "469/469 [==============================] - 2s 4ms/step - loss: 0.0223 - accuracy: 0.9950 - val_loss: 0.0744 - val_accuracy: 0.9790\n",
            "Epoch 28/30\n",
            "469/469 [==============================] - 2s 4ms/step - loss: 0.0209 - accuracy: 0.9957 - val_loss: 0.0738 - val_accuracy: 0.9788\n",
            "Epoch 29/30\n",
            "469/469 [==============================] - 2s 4ms/step - loss: 0.0196 - accuracy: 0.9959 - val_loss: 0.0723 - val_accuracy: 0.9787\n",
            "Epoch 30/30\n",
            "469/469 [==============================] - 2s 4ms/step - loss: 0.0182 - accuracy: 0.9961 - val_loss: 0.0723 - val_accuracy: 0.9791\n"
          ]
        }
      ]
    },
    {
      "cell_type": "code",
      "source": [
        "model_tanh = tf.keras.models.Sequential([\n",
        "  tf.keras.layers.Flatten(input_shape=(28, 28)),\n",
        "  tf.keras.layers.Dense(128, activation='tanh'), # <---- capas ocultas\n",
        "  tf.keras.layers.Dense(10)\n",
        "])\n",
        "\n",
        "model_tanh.compile(\n",
        "    loss = tf.keras.losses.SparseCategoricalCrossentropy(from_logits = True),\n",
        "    optimizer = tf.keras.optimizers.Adam(0.001), # <---- optimizador\n",
        "    metrics = ['accuracy'],\n",
        ")\n",
        "\n",
        "history3 = model_tanh.fit(\n",
        "    ds_train,\n",
        "    epochs = 30,\n",
        "    validation_data = ds_test,\n",
        ")"
      ],
      "metadata": {
        "colab": {
          "base_uri": "https://localhost:8080/"
        },
        "id": "q8M_e1Xas8UB",
        "outputId": "d945ac77-7a08-4b1d-e0a6-420435097888"
      },
      "execution_count": null,
      "outputs": [
        {
          "output_type": "stream",
          "name": "stdout",
          "text": [
            "Epoch 1/30\n",
            "469/469 [==============================] - 2s 4ms/step - loss: 0.3741 - accuracy: 0.8939 - val_loss: 0.2274 - val_accuracy: 0.9344\n",
            "Epoch 2/30\n",
            "469/469 [==============================] - 2s 4ms/step - loss: 0.1973 - accuracy: 0.9433 - val_loss: 0.1676 - val_accuracy: 0.9531\n",
            "Epoch 3/30\n",
            "469/469 [==============================] - 2s 4ms/step - loss: 0.1456 - accuracy: 0.9588 - val_loss: 0.1360 - val_accuracy: 0.9603\n",
            "Epoch 4/30\n",
            "469/469 [==============================] - 2s 3ms/step - loss: 0.1139 - accuracy: 0.9678 - val_loss: 0.1168 - val_accuracy: 0.9656\n",
            "Epoch 5/30\n",
            "469/469 [==============================] - 2s 3ms/step - loss: 0.0920 - accuracy: 0.9745 - val_loss: 0.1050 - val_accuracy: 0.9699\n",
            "Epoch 6/30\n",
            "469/469 [==============================] - 2s 4ms/step - loss: 0.0758 - accuracy: 0.9791 - val_loss: 0.0922 - val_accuracy: 0.9728\n",
            "Epoch 7/30\n",
            "469/469 [==============================] - 2s 3ms/step - loss: 0.0633 - accuracy: 0.9827 - val_loss: 0.0872 - val_accuracy: 0.9748\n",
            "Epoch 8/30\n",
            "469/469 [==============================] - 2s 4ms/step - loss: 0.0531 - accuracy: 0.9857 - val_loss: 0.0864 - val_accuracy: 0.9730\n",
            "Epoch 9/30\n",
            "469/469 [==============================] - 2s 3ms/step - loss: 0.0448 - accuracy: 0.9883 - val_loss: 0.0816 - val_accuracy: 0.9744\n",
            "Epoch 10/30\n",
            "469/469 [==============================] - 2s 4ms/step - loss: 0.0374 - accuracy: 0.9903 - val_loss: 0.0783 - val_accuracy: 0.9766\n",
            "Epoch 11/30\n",
            "469/469 [==============================] - 2s 4ms/step - loss: 0.0317 - accuracy: 0.9923 - val_loss: 0.0776 - val_accuracy: 0.9771\n",
            "Epoch 12/30\n",
            "469/469 [==============================] - 2s 4ms/step - loss: 0.0270 - accuracy: 0.9938 - val_loss: 0.0758 - val_accuracy: 0.9768\n",
            "Epoch 13/30\n",
            "469/469 [==============================] - 2s 3ms/step - loss: 0.0226 - accuracy: 0.9952 - val_loss: 0.0749 - val_accuracy: 0.9769\n",
            "Epoch 14/30\n",
            "469/469 [==============================] - 2s 3ms/step - loss: 0.0191 - accuracy: 0.9964 - val_loss: 0.0750 - val_accuracy: 0.9773\n",
            "Epoch 15/30\n",
            "469/469 [==============================] - 2s 3ms/step - loss: 0.0160 - accuracy: 0.9974 - val_loss: 0.0767 - val_accuracy: 0.9772\n",
            "Epoch 16/30\n",
            "469/469 [==============================] - 2s 4ms/step - loss: 0.0134 - accuracy: 0.9981 - val_loss: 0.0759 - val_accuracy: 0.9780\n",
            "Epoch 17/30\n",
            "469/469 [==============================] - 2s 3ms/step - loss: 0.0109 - accuracy: 0.9987 - val_loss: 0.0741 - val_accuracy: 0.9778\n",
            "Epoch 18/30\n",
            "469/469 [==============================] - 2s 4ms/step - loss: 0.0089 - accuracy: 0.9991 - val_loss: 0.0768 - val_accuracy: 0.9778\n",
            "Epoch 19/30\n",
            "469/469 [==============================] - 2s 4ms/step - loss: 0.0076 - accuracy: 0.9994 - val_loss: 0.0755 - val_accuracy: 0.9786\n",
            "Epoch 20/30\n",
            "469/469 [==============================] - 2s 4ms/step - loss: 0.0066 - accuracy: 0.9995 - val_loss: 0.0782 - val_accuracy: 0.9782\n",
            "Epoch 21/30\n",
            "469/469 [==============================] - 2s 4ms/step - loss: 0.0051 - accuracy: 0.9998 - val_loss: 0.0789 - val_accuracy: 0.9785\n",
            "Epoch 22/30\n",
            "469/469 [==============================] - 2s 4ms/step - loss: 0.0041 - accuracy: 0.9999 - val_loss: 0.0799 - val_accuracy: 0.9790\n",
            "Epoch 23/30\n",
            "469/469 [==============================] - 2s 4ms/step - loss: 0.0036 - accuracy: 0.9999 - val_loss: 0.0818 - val_accuracy: 0.9782\n",
            "Epoch 24/30\n",
            "469/469 [==============================] - 2s 4ms/step - loss: 0.0033 - accuracy: 0.9998 - val_loss: 0.0820 - val_accuracy: 0.9780\n",
            "Epoch 25/30\n",
            "469/469 [==============================] - 2s 3ms/step - loss: 0.0026 - accuracy: 0.9999 - val_loss: 0.0820 - val_accuracy: 0.9784\n",
            "Epoch 26/30\n",
            "469/469 [==============================] - 2s 4ms/step - loss: 0.0023 - accuracy: 0.9999 - val_loss: 0.0829 - val_accuracy: 0.9789\n",
            "Epoch 27/30\n",
            "469/469 [==============================] - 2s 3ms/step - loss: 0.0016 - accuracy: 1.0000 - val_loss: 0.0838 - val_accuracy: 0.9791\n",
            "Epoch 28/30\n",
            "469/469 [==============================] - 2s 4ms/step - loss: 0.0014 - accuracy: 1.0000 - val_loss: 0.0879 - val_accuracy: 0.9780\n",
            "Epoch 29/30\n",
            "469/469 [==============================] - 2s 3ms/step - loss: 0.0012 - accuracy: 1.0000 - val_loss: 0.0890 - val_accuracy: 0.9783\n",
            "Epoch 30/30\n",
            "469/469 [==============================] - 2s 3ms/step - loss: 0.0017 - accuracy: 0.9998 - val_loss: 0.1034 - val_accuracy: 0.9761\n"
          ]
        }
      ]
    },
    {
      "cell_type": "markdown",
      "metadata": {
        "id": "OyUSvpHsqWBo"
      },
      "source": [
        "## 5. Resultados obtenidos\n",
        "\n"
      ]
    },
    {
      "cell_type": "markdown",
      "source": [
        "**Con función de activación ReLu**\n",
        "\n",
        "\n"
      ],
      "metadata": {
        "id": "N0CJl1X8mm1S"
      }
    },
    {
      "cell_type": "markdown",
      "source": [
        "$$\n",
        "\\begin{aligned}\n",
        "& \\hspace{60mm} \\text {Tabla 1.1. Rendimiento redes FeedForward }\\\\\n",
        "&\\begin{array}{cccc}\n",
        "\\hline \\hline \\text {  N° Capas  } & \\text { N° Épocas } & \\text { SGD } & \\text { ADAM } & \\text { RMsPro } \\\\\n",
        "\\hline \\hline \\text {    } & \\text {  } & \\text { val_acc }\\hspace{10mm}  { tiempo_s } & \\text { val_acc }\\hspace{10mm} { tiempo_s } & \\text { val_acc }\\hspace{10mm} { tiempo_s } \\\\\n",
        "\\hline \\text{ 2 capas } & \\text { 5 epocas} &\\text{0.7874}\\hspace{10mm} {2} &\\text{0.9750}\\hspace{10mm} {2}&\\text{0.9733}\\hspace{10mm} {2}  \\\\\n",
        "\\text{ 5 capas } & \\text { 20 epocas} &\\text{0.8896}\\hspace{10mm} {2} &\\text{0.9770}\\hspace{10mm} {2}&\\text{0.9795}\\hspace{10mm} {2}  \\\\\n",
        "\\text{ 1 capa } & \\text { 30 epocas}&\\text{0.8978}\\hspace{10mm} {1} &\\text{0.9792}\\hspace{10mm} {1}&\\text{0.9784}\\hspace{10mm} {2}  \\\\\n",
        "\\hline\n",
        "\\end{array}\n",
        "\\end{aligned}\n",
        "$$"
      ],
      "metadata": {
        "id": "sbWkbobzJuG7"
      }
    },
    {
      "cell_type": "markdown",
      "source": [
        "**Con función de activación Sigmoid**"
      ],
      "metadata": {
        "id": "DgKdORkqLAie"
      }
    },
    {
      "cell_type": "markdown",
      "source": [
        "$$\n",
        "\\begin{aligned}\n",
        "& \\hspace{60mm} \\text {Tabla 1.1. Rendimiento redes FeedForward }\\\\\n",
        "&\\begin{array}{cccc}\n",
        "\\hline \\hline \\text {  N° Capas  } & \\text { N° Épocas } & \\text { SGD } & \\text { ADAM } & \\text { RMsPro } \\\\\n",
        "\\hline \\hline \\text {    } & \\text {  } & \\text { val_acc }\\hspace{10mm}  { tiempo_s } & \\text { val_acc }\\hspace{10mm} { tiempo_s } & \\text { val_acc }\\hspace{10mm} { tiempo_s } \\\\\n",
        "\\hline \\text{ 2 capas } & \\text { 5 epocas} &\\text{0.1354}\\hspace{10mm} {2} &\\text{0.9628}\\hspace{10mm} {2}&\\text{0.9643}\\hspace{10mm} {2}  \\\\\n",
        "\\text{ 5 capas } & \\text { 20 epocas} &\\text{0.1135}\\hspace{10mm} {2} &\\text{0.9719}\\hspace{10mm} {2}&\\text{0.9651}\\hspace{10mm} {4}  \\\\\n",
        "\\text{ 1 capa } & \\text { 30 epocas}&\\text{0.8213}\\hspace{10mm} {2} &\\text{0.9786}\\hspace{10mm} {2}&\\text{0.9791}\\hspace{10mm} {2}  \\\\\n",
        "\\hline\n",
        "\\end{array}\n",
        "\\end{aligned}\n",
        "$$"
      ],
      "metadata": {
        "id": "rbSm9D8tJegW"
      }
    },
    {
      "cell_type": "markdown",
      "source": [
        "**Con función de activación Tanh**"
      ],
      "metadata": {
        "id": "W634pIgCLENg"
      }
    },
    {
      "cell_type": "markdown",
      "source": [
        "$$\n",
        "\\begin{aligned}\n",
        "& \\hspace{60mm} \\text {Tabla 1.1. Rendimiento redes FeedForward }\\\\\n",
        "&\\begin{array}{cccc}\n",
        "\\hline \\hline \\text {  N° Capas  } & \\text { N° Épocas } & \\text { SGD } & \\text { ADAM } & \\text { RMsPro } \\\\\n",
        "\\hline \\hline \\text {    } & \\text {  } & \\text { val_acc }\\hspace{10mm}  { tiempo_s } & \\text { val_acc }\\hspace{10mm} { tiempo_s } & \\text { val_acc }\\hspace{10mm} { tiempo_s } \\\\\n",
        "\\hline \\text{ 2 capas } & \\text { 5 epocas} &\\text{0.8231}\\hspace{10mm} {2} &\\text{0.9742}\\hspace{10mm} {2}&\\text{0.9765}\\hspace{10mm} {2}  \\\\\n",
        "\\text{ 5 capas } & \\text { 20 epocas} &\\text{0.9029}\\hspace{10mm} {2} &\\text{0.9775}\\hspace{10mm} {2}&\\text{0.9770}\\hspace{10mm} {3}  \\\\\n",
        "\\text{ 1 capa } & \\text { 30 epocas}&\\text{0.8940}\\hspace{10mm} {2} &\\text{0.9761}\\hspace{10mm} {2}&\\text{0.9790}\\hspace{10mm} {2}  \\\\\n",
        "\\hline\n",
        "\\end{array}\n",
        "\\end{aligned}\n",
        "$$"
      ],
      "metadata": {
        "id": "74464FqMJv3i"
      }
    },
    {
      "cell_type": "markdown",
      "metadata": {
        "id": "ZLS7M1Wuq5qR"
      },
      "source": [
        "## 6. Análisis de resultados   "
      ]
    },
    {
      "cell_type": "markdown",
      "metadata": {
        "id": "AfoGyakLph6A"
      },
      "source": [
        "**Gráfico de entrenamiento donde se representan las 3 funciones de activación y visualiza la precisión y perdida del modelo**\n"
      ]
    },
    {
      "cell_type": "code",
      "metadata": {
        "id": "XcRym8WJUXZO",
        "colab": {
          "base_uri": "https://localhost:8080/",
          "height": 416
        },
        "outputId": "632155df-0cea-466a-df40-07fdfd23fd52"
      },
      "source": [
        "###############################\n",
        "# Crea tus gráficos acá\n",
        "\n",
        "plt.figure(figsize=(25, 15))\n",
        "\n",
        "# Gráfico de presición\n",
        "\n",
        "ax = plt.subplot(2,2, 1)\n",
        "plt.plot(history1.history['accuracy'])\n",
        "plt.plot(history1.history['val_accuracy'])\n",
        "plt.plot(history2.history['accuracy'])\n",
        "plt.plot(history2.history['val_accuracy'])\n",
        "plt.plot(history3.history['accuracy'])\n",
        "plt.plot(history3.history['val_accuracy'])\n",
        "plt.title('Precisión del modelo')\n",
        "plt.ylabel('accuracy')\n",
        "plt.xlabel('epoch')\n",
        "plt.legend(['train_relu', 'test_relu', 'train_sigmoid', 'test_sigmoid', 'train_tanh', 'test_tanh'], loc='lower right')\n",
        "\n",
        "# Gráfico de perdida\n",
        "\n",
        "ax = plt.subplot(2,2, 2)\n",
        "plt.plot(history1.history['loss'])\n",
        "plt.plot(history1.history['val_loss'])\n",
        "plt.plot(history2.history['loss'])\n",
        "plt.plot(history2.history['val_loss'])\n",
        "plt.plot(history3.history['loss'])\n",
        "plt.plot(history3.history['val_loss'])\n",
        "plt.title('Perdida del modelo')\n",
        "plt.ylabel('loss')\n",
        "plt.xlabel('epoch')\n",
        "plt.legend(['train_relu', 'test_relu', 'train_sigmoid', 'test_sigmoid', 'train_tanh', 'test_tanh'], loc = 'upper right')\n",
        "\n",
        "###############################"
      ],
      "execution_count": null,
      "outputs": [
        {
          "output_type": "execute_result",
          "data": {
            "text/plain": [
              "<matplotlib.legend.Legend at 0x7f1a5a59bbd0>"
            ]
          },
          "metadata": {},
          "execution_count": 39
        },
        {
          "output_type": "display_data",
          "data": {
            "text/plain": [
              "<Figure size 1800x1080 with 2 Axes>"
            ],
            "image/png": "[encoded data removed]"
          },
          "metadata": {
            "needs_background": "light"
          }
        }
      ]
    }
  ]
}